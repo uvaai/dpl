{
 "cells": [
  {
   "cell_type": "markdown",
   "id": "7131e264",
   "metadata": {},
   "source": [
    "## Autorit\n",
    "Zoals je weet is er op de ring van Amsterdam nog wel eens file. De gemeente wil deze files verminderen door onder andere het gebruik van het openbaar vervoer te stimuleren. Dat kan de gemeente op verschillende manieren doen, denk aan extra openbaar vervoer inzetten op verschillende trajecten en tijden, maar ook met lokale campagnes om het gebruik van het openbaar vervoer aan te moedigen. De gemeente heeft een gelimiteerd budget en wil een weloverwogen en door data gedreven keuze maken.\n",
    "\n",
    "Dus is er een team van data scientists ingehuurd om het rijgedrag op de ring te analyseren en op basis daarvan een aanbeveling te doen voor het bevorderen van het gebruik van het openbaar vervoer. In samenwerking met een zeker Nederlands navigatiebedrijf is er data verzameld over het rijgedrag van individuen op de ring. Als onderdeel van de analyse worden individu gegroepeerd op basis van gereden routes en rijgedrag. Naar aanleiding van de gevonden groepen kan er wellicht een aanbeveling gedaan worden voor een nieuwe busroute of een campagne in een bepaalde wijk van Amsterdam.\n",
    "\n",
    "Om te kunnen groeperen hebben we allereerst data nodig en we moeten deze data kunnen inlezen en verwerken. Daarna rest de taak om hier features uit te winnen waarmee we correlaties kunnen vinden. In deze opdracht ga je de gegevens van één rit inlezen, verwerken en inzichtelijk maken. Alle data van de gemaakte rit vind je in `car.tsv`."
   ]
  },
  {
   "cell_type": "markdown",
   "id": "75b0d63d",
   "metadata": {},
   "source": [
    "### Vraag 1a\n",
    "\n",
    "`car.tsv` is een tab seperated values bestand. Eigenlijk dus een `.csv`, maar dan met een andere separator. Lees het bestand in *pandas* door middel van de `read_csv` functie en sla het resultaat in een nieuwe variable `frame` op. Laat daarna gelijk de eerste 5 datapunten zien, zodat je het format van het dataframe kunt bekijken."
   ]
  },
  {
   "cell_type": "code",
   "execution_count": null,
   "id": "c1553479",
   "metadata": {},
   "outputs": [],
   "source": []
  },
  {
   "cell_type": "markdown",
   "id": "a510c89c",
   "metadata": {},
   "source": [
    "### Vraag 1b\n",
    "\n",
    "Niet alle data in `car.tsv` is even nuttig. Zo is `timestamp` gelijk aan `recordtime`! Ook hebben we bij deze opdracht niet alle kolommen nodig. Herindexeer daarom hieronder het `frame`, zodat alleen de kolommen `time`, `lat`, `long`, `speed`, en `course` overblijven. Laat daarna weer de eerste 5 datapunten zien om je resultaat te kunnen controleren."
   ]
  },
  {
   "cell_type": "code",
   "execution_count": null,
   "id": "a3b28545",
   "metadata": {},
   "outputs": [],
   "source": []
  },
  {
   "cell_type": "markdown",
   "id": "6dfb72bd",
   "metadata": {},
   "source": [
    "### Vraag 2a\n",
    "\n",
    "De huidige `time` uit `car.tsv` bevat nog steeds overbodige informatie, want alle alle data voor deze rit komt van dezelfde dag. Ook is `time` op het moment nog steeds een string, wat verdere berekeningen natuurlijk lastig maakt. Schrijf een nieuwe functie `time_tuple` die een `time` string als input krijgt, en vervolgens een tuple returnt met alleen het aantal *uren*, *minuten*, *seconden* en *miliseconden* in de timestamp, allen geconverteerd naar een integer.\n",
    "\n",
    "    >>> time_tuple('2014-11-19 08:57:45.696')\n",
    "    (8, 57, 45, 696)\n",
    "    \n",
    "    >>> time_tuple('2014-11-19 09:10:25.695')\n",
    "    (9, 10, 25, 695)\n",
    "    "
   ]
  },
  {
   "cell_type": "code",
   "execution_count": null,
   "id": "5bba84d7",
   "metadata": {},
   "outputs": [],
   "source": []
  },
  {
   "cell_type": "markdown",
   "id": "926ef667",
   "metadata": {},
   "source": [
    "### Vraag 2b\n",
    "\n",
    "Gebruik nu vervolgens `map` om de `time_tuple` functie toe te passen op elke rij van de `time` kolom en sla het resultaat op een nieuwe kolom `tuple_time`. Laat weer de eerste 5 rijen zien om je resultaat te controleren. "
   ]
  },
  {
   "cell_type": "code",
   "execution_count": null,
   "id": "c9b5d633",
   "metadata": {},
   "outputs": [],
   "source": []
  },
  {
   "cell_type": "markdown",
   "id": "0ab2f86a",
   "metadata": {},
   "source": [
    "### Vraag 3a\n",
    "\n",
    "Schrijf een functie die een tuple time neemt, en deze vervolgens converteert naar de hoeveelste seconden van de dag (sinds middernacht) het is. Er zitten uiteraard 60 seconden in 1 minuut, 3600 seconden in 1 uur, en komt elke miliseconde overeen met *1/1000ste* seconde. Map deze functie over `tuple_time` en sla het resultaat in een nieuwe kolom `seconds` op. Controleer je resultaat weer met de eerste 5 rijen. De eerste time zou overeen moeten komen met *32265.696* seconden sinds middernacht.\n"
   ]
  },
  {
   "cell_type": "code",
   "execution_count": null,
   "id": "ef579027",
   "metadata": {},
   "outputs": [],
   "source": []
  },
  {
   "cell_type": "markdown",
   "id": "15996741",
   "metadata": {},
   "source": [
    "### Vraag 3b\n",
    "\n",
    "Gebruik nu de *pandas* functie [diff](https://pandas.pydata.org/docs/reference/api/pandas.Series.diff.html) om de verschillen tussen de `seconds` van elke rij te berekenen. Dit moet dus het verschil zijn tussen een seconds van een rij en rij daarvoor. Sla het resultaat op in een nieuwe kolom `time_spent`. Deze kolom geeft nu dus aan hoe lang er tussen elk van de verschillende metingen zit."
   ]
  },
  {
   "cell_type": "code",
   "execution_count": null,
   "id": "ba903b04",
   "metadata": {},
   "outputs": [],
   "source": []
  },
  {
   "cell_type": "markdown",
   "id": "281940d9",
   "metadata": {},
   "source": [
    "### Vraag 3c\n",
    "\n",
    "De eerste rij heeft uiteraard geen rij ervoor, wat er voor zorgt dat dit verschil *NaN* wordt. Gebruik een *pandas* functie om deze missende *NaN* te vervangen met *0.0* seconden.\n"
   ]
  },
  {
   "cell_type": "code",
   "execution_count": null,
   "id": "52678290",
   "metadata": {},
   "outputs": [],
   "source": []
  },
  {
   "cell_type": "markdown",
   "id": "6adb5a9e",
   "metadata": {},
   "source": [
    "### Vraag 4a\n",
    "\n",
    "De `speed` in deze data set is in meters per seconde. Samen met de `time_spent` per meeting, kunnen we dat gebruiken om de afgelegde afstand per sample te berekenen, en dus uiteindelijk ook de totaal afgelegde afstand. Bereken de totaal afgelegde afstand in meters en print deze waarde met twee getallen achter de komma\n"
   ]
  },
  {
   "cell_type": "code",
   "execution_count": null,
   "id": "c6dc17e5",
   "metadata": {},
   "outputs": [],
   "source": []
  },
  {
   "cell_type": "markdown",
   "id": "b7cd9bd0",
   "metadata": {},
   "source": [
    "### Vraag 4b\n",
    "\n",
    "Maak een nieuwe kolom in de dataframe waar je de snelheid in de kilometers per uur opslaat. Hiervoor moet je dus de speed in meters per seconde converteren en opslaan in een nieuwe kolom `kmph`."
   ]
  },
  {
   "cell_type": "code",
   "execution_count": null,
   "id": "d9e99adb",
   "metadata": {},
   "outputs": [],
   "source": []
  },
  {
   "cell_type": "markdown",
   "id": "e6e21b89",
   "metadata": {},
   "source": [
    "### Vraag 5a\n",
    "\n",
    "Maak een functie die de snelheid in kilometers per uur converteert naar een label van het soort snelheden dat de auto rijdt. Hiervoor zijn er 4 types gedefinieerd.\n",
    "\n",
    "* $< 5$ km/h : \"Stilstand\"\n",
    "* $>= 5$ en $< 30$ km/h: \"Woonwijk\"\n",
    "* $>= 30$ en $< 50$ km/h: \"Bebouwde kom\"\n",
    "* $>= 50$ km/h: \"Snelweg\"\n",
    "\n",
    "Als voorbeeld zou deze functie dus de volgdende output moeten geven\n",
    "\n",
    "    >>> speed_type(35)\n",
    "    \"Bebouwde kom\"\n",
    "    \n",
    "    >> speed_type(17)\n",
    "    \"Woonwijk\"\n",
    "    \n",
    "Pas deze functie toe op de kolom `kmph` en sla het resultaat op in een nieuwe kolom `road_type`"
   ]
  },
  {
   "cell_type": "code",
   "execution_count": null,
   "id": "1452621d",
   "metadata": {},
   "outputs": [],
   "source": []
  },
  {
   "cell_type": "markdown",
   "id": "7b01c0c8",
   "metadata": {},
   "source": [
    "### Vraag 5b\n",
    "\n",
    "Bereken de totale tijd dat de auto stil stond deze rit. Gebruik hiervoor de `road_type` en `time_spent` kolommen van de data frame. Gebruik hiervoor een boolean mask."
   ]
  },
  {
   "cell_type": "code",
   "execution_count": null,
   "id": "7c46f8ec",
   "metadata": {},
   "outputs": [],
   "source": []
  },
  {
   "cell_type": "markdown",
   "id": "15a56457",
   "metadata": {},
   "source": [
    "### Vraag 6\n",
    "\n",
    "Bereken de verschillende gemiddelde snelheden voor de verschillende road_types en laat deze resultaten in een nieuwe series zien. Gebruik hiervoor een `groupby`."
   ]
  },
  {
   "cell_type": "code",
   "execution_count": null,
   "id": "2132c212",
   "metadata": {},
   "outputs": [],
   "source": []
  },
  {
   "cell_type": "markdown",
   "id": "d62ff2d0",
   "metadata": {},
   "source": [
    "### Vraag 7\n",
    "\n",
    "Maak een scatter plot van all x-y posities van de auto, hier gegeven als de `lat` en `long` kolommen, zodat je de positie van de auto gedurde de rit kunt zien."
   ]
  },
  {
   "cell_type": "code",
   "execution_count": null,
   "id": "e6c4d00f",
   "metadata": {},
   "outputs": [],
   "source": []
  }
 ],
 "metadata": {
  "kernelspec": {
   "display_name": "Python 3 (ipykernel)",
   "language": "python",
   "name": "python3"
  },
  "language_info": {
   "codemirror_mode": {
    "name": "ipython",
    "version": 3
   },
   "file_extension": ".py",
   "mimetype": "text/x-python",
   "name": "python",
   "nbconvert_exporter": "python",
   "pygments_lexer": "ipython3",
   "version": "3.8.10"
  }
 },
 "nbformat": 4,
 "nbformat_minor": 5
}
