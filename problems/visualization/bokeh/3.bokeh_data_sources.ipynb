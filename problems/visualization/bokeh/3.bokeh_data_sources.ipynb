{
 "cells": [
  {
   "cell_type": "markdown",
   "metadata": {},
   "source": [
    "# Bokeh: Data Sources & Transformation\n",
    "\n",
    "Most parts of this tutorial are taken from the bokeh [website](https://docs.bokeh.org/en/latest/index.html)."
   ]
  },
  {
   "cell_type": "markdown",
   "metadata": {},
   "source": [
    "## Imports and Setup\n",
    "\n",
    "First, let's make the standard imports"
   ]
  },
  {
   "cell_type": "code",
   "execution_count": null,
   "metadata": {},
   "outputs": [],
   "source": [
    "from bokeh.io import output_notebook, show\n",
    "from bokeh.plotting import figure"
   ]
  },
  {
   "cell_type": "code",
   "execution_count": null,
   "metadata": {},
   "outputs": [],
   "source": [
    "output_notebook()"
   ]
  },
  {
   "cell_type": "markdown",
   "metadata": {},
   "source": [
    "This notebook uses Bokeh sample data. If you haven't downloaded it already, this can be downloaded by running the following:"
   ]
  },
  {
   "cell_type": "code",
   "execution_count": null,
   "metadata": {
    "jupyter": {
     "outputs_hidden": true
    }
   },
   "outputs": [],
   "source": [
    "import bokeh.sampledata\n",
    "bokeh.sampledata.download()"
   ]
  },
  {
   "cell_type": "markdown",
   "metadata": {},
   "source": [
    "## Overview\n",
    "\n",
    "We've seen how Bokeh can work well with Python lists, NumPy arrays, Pandas series, etc. At lower levels, these inputs are converted to a Bokeh `ColumnDataSource`. This data type is the central data source object used throughout Bokeh. Although Bokeh often creates them for us implicitly, there are times when it is useful to create them explicitly.\n",
    "\n",
    "In later sections we will see features like hover tooltips, computed transforms, interactions that make use of the `ColumnDataSource`, so let's take a quick look now. "
   ]
  },
  {
   "cell_type": "markdown",
   "metadata": {},
   "source": [
    "### Creating with Python Dicts\n",
    "\n",
    "The `ColumnDataSource` can be imported from `bokeh.models`:"
   ]
  },
  {
   "cell_type": "code",
   "execution_count": null,
   "metadata": {},
   "outputs": [],
   "source": [
    "from bokeh.models import ColumnDataSource"
   ]
  },
  {
   "cell_type": "markdown",
   "metadata": {},
   "source": [
    "The `ColumnDataSource` is a mapping of column names (strings) to sequences of values. Here is a simple example. The mapping is provided by passing a Python `dict` with string keys and simple Python lists as values. The values could also be NumPy arrays, or Pandas sequences.\n",
    "\n",
    "***NOTE: ALL the columns in a `ColumnDataSource` must always be the SAME length.***\n"
   ]
  },
  {
   "cell_type": "code",
   "execution_count": null,
   "metadata": {},
   "outputs": [],
   "source": [
    "source = ColumnDataSource(data={\n",
    "    'x' : [1, 2, 3, 4, 5],\n",
    "    'y' : [3, 7, 8, 5, 1],\n",
    "})"
   ]
  },
  {
   "cell_type": "markdown",
   "metadata": {},
   "source": [
    "Up until now we have called functions like `p.circle` by passing in literal lists or arrays of data directly. When we do this, Bokeh automatically creates a `ColumnDataSource` for us. But it is possible to specify a `ColumnDataSource` explicitly by passing it as the `source` argument to a glyph method. Whenever we do this, if we want a property (like `\"x\"` or `\"y\"` or `\"fill_color\"`) to have a sequence of values, we pass the ***name of the column*** that we would like to use for a property:"
   ]
  },
  {
   "cell_type": "code",
   "execution_count": null,
   "metadata": {},
   "outputs": [],
   "source": [
    "p = figure(plot_width=400, plot_height=400)\n",
    "p.circle('x', 'y', size=20, source=source)\n",
    "show(p)"
   ]
  },
  {
   "cell_type": "markdown",
   "metadata": {},
   "source": [
    "<h3>\n",
    "<font color='blue'>\n",
    "Exercise\n",
    "</font>\n",
    "</h3>\n",
    "Create a column data source with NumPy arrays as column values and plot it"
   ]
  },
  {
   "cell_type": "code",
   "execution_count": null,
   "metadata": {},
   "outputs": [],
   "source": [
    "import numpy as np\n"
   ]
  },
  {
   "cell_type": "markdown",
   "metadata": {},
   "source": [
    "### Creating with Pandas DataFrames\n",
    "\n",
    "It's also possible to create `ColumnDataSource` objects directly from Pandas data frames. To do this, just pass the data frame to  `ColumnDataSource` when you create it:"
   ]
  },
  {
   "cell_type": "code",
   "execution_count": null,
   "metadata": {},
   "outputs": [],
   "source": [
    "from bokeh.sampledata.iris import flowers as df\n",
    "\n",
    "# show first 5 rows of example df\n",
    "display(df.head())\n",
    "\n",
    "# create ColumnDataSource\n",
    "source = ColumnDataSource(df)"
   ]
  },
  {
   "cell_type": "markdown",
   "metadata": {},
   "source": [
    "Now we can use it as we did above by passing the column names to glyph methods:"
   ]
  },
  {
   "cell_type": "code",
   "execution_count": null,
   "metadata": {},
   "outputs": [],
   "source": [
    "p = figure(plot_width=400, plot_height=400)\n",
    "p.circle('petal_length', 'petal_width', source=source)\n",
    "show(p)"
   ]
  },
  {
   "cell_type": "markdown",
   "metadata": {},
   "source": [
    "<h3>\n",
    "<font color='blue'>\n",
    "Exercise\n",
    "</font>\n",
    "</h3>\n",
    "Create a column data source with the autompg sample data frame and plot it"
   ]
  },
  {
   "cell_type": "code",
   "execution_count": null,
   "metadata": {},
   "outputs": [],
   "source": [
    "from bokeh.sampledata.autompg import autompg_clean as df\n"
   ]
  },
  {
   "cell_type": "markdown",
   "metadata": {},
   "source": [
    "### Automatic Conversion\n",
    "\n",
    "If you do not need to share data sources, it may be convenient to pass dicts, Pandas `DataFrame` or `GroupBy` objects directly to glyph methods, without explicitly creating a `ColumnDataSource`. In this case, a `ColumnDataSource` will be created automatically."
   ]
  },
  {
   "cell_type": "code",
   "execution_count": null,
   "metadata": {},
   "outputs": [],
   "source": [
    "from bokeh.sampledata.iris import flowers as df\n",
    "\n",
    "p = figure(plot_width=400, plot_height=400)\n",
    "p.circle('petal_length', 'petal_width', source=df)\n",
    "show(p)"
   ]
  },
  {
   "cell_type": "markdown",
   "metadata": {},
   "source": [
    "## Transformations\n",
    "\n",
    "In addition to being configured with names of columns from data sources, glyph properties may also be configured with transform objects that represent transformations of columns. These live in the `bokeh.transform` module. It is important to note that when using these objects, the tranformations occur *in the browser, not in Python*. \n",
    "\n",
    "The first transform we look at is the `cumsum` transform, which can generate a new sequence of values from a data source column by cumulatively summing the values in the column. This can be useful for pie or donut type charts as seen below.\n",
    "\n",
    "In the code below we first create a data frame containing several countries and their corresponding (meaningless) values. Next, we add a column in which color is defined for every row, or country, in the data frame. Coloring palettes (like Category20c, used below) can be found at https://docs.bokeh.org/en/latest/docs/reference/palettes.html. We also add a column 'angle' to the data frame, here the value of every country is normalised to an angle (in radians).  \n",
    "\n",
    "Next, we create the figure. Here, we use the `wedge()` method to draw wedges based on the angles we've calculated earlier. First, we define the *x* and *y* coordinates of the points of the wedges and choose the radius of the wedge. We then use `cumsum` to define `start_angle` and `end_angle`, (the angles at which the wedges start and end, as measured from the horizontal). `cumsum` is a method from the `bokeh.transform` module and is used to sum the \"angle\" column of a data source, in this case our data frame. `include_zero` is set to `True`, indicating that we start at an angle of zero. Lastly, we add some styling elements in this method and tell the method what data it should look at. \n",
    "\n",
    "To summarize, we've turned the values of the data frame into ratios which we use to draw a wedge for every entry in our data frame. "
   ]
  },
  {
   "cell_type": "code",
   "execution_count": null,
   "metadata": {},
   "outputs": [],
   "source": [
    "from math import pi\n",
    "import pandas as pd\n",
    "from bokeh.palettes import Category20c # palette for color mapping\n",
    "from bokeh.transform import cumsum\n",
    "\n",
    "# data\n",
    "x = { 'United States': 157, 'United Kingdom': 93, 'Japan': 89, 'China': 63,\n",
    "      'Germany': 44, 'India': 42, 'Italy': 40, 'Australia': 35, 'Brazil': 32,\n",
    "      'France': 31, 'Taiwan': 31, 'Spain': 29 }\n",
    "\n",
    "# create df\n",
    "data = pd.Series(x).reset_index(name='value').rename(columns={'index':'country'})\n",
    "\n",
    "# add column with a color of the Category20c palette for every row \n",
    "data['color'] = Category20c[len(x)]\n",
    "\n",
    "# represent each value as an angle = value / total * 2pi\n",
    "data['angle'] = data['value']/data['value'].sum() * 2*pi\n",
    "\n",
    "# create figure\n",
    "p = figure(plot_height=350, title=\"Pie Chart\", toolbar_location=None,\n",
    "           tools=\"hover\", tooltips=\"@country: @value\")\n",
    "\n",
    "p.wedge(x=0, y=1, radius=0.4, \n",
    "        \n",
    "        # use cumsum to cumulatively sum the values for start and end angles\n",
    "        start_angle=cumsum('angle', include_zero=True), end_angle=cumsum('angle'),\n",
    "        line_color=\"white\", fill_color='color', legend_field='country', source=data)\n",
    "\n",
    "# don't show the axes or a grid\n",
    "p.axis.axis_label=None\n",
    "p.axis.visible=False\n",
    "p.grid.grid_line_color = None\n",
    "\n",
    "show(p)"
   ]
  },
  {
   "cell_type": "markdown",
   "metadata": {},
   "source": [
    "The next transform we look at is the `linear_cmap` transform, which can generate a new sequence of colors by applying a linear colormapping to a data source column. \n",
    "\n",
    "We again create a data set, in this case we create a dictionary with three keys (`x`, `y` and `r`), with as value an array of random numbers of size `N`. The arrays of `x` and `y` contain random numbers between 0 and 100 and `r` between 0 and 1.5. \n",
    "\n",
    "Next, we create a figure in which we draw circles with the `circle` method. The location of the circle is defined by `x` and `y`, the radius of the circles by `r`. `color` is set with the `linear_cmap` transform, which maps a range of numerical values across the available colors from high to low. In this case, we apply a linear color mapper to `x` and we colors are taken from the `Viridis256` color palette (from [bokeh.palettes](https://docs.bokeh.org/en/latest/docs/reference/palettes.html)). The final two arguments indicate the minimum and maximum value of the range to map into the palette. Check out the [documentation](https://docs.bokeh.org/en/latest/docs/reference/transform.html) to find out more about this and other color mapping transformations. \n",
    "\n",
    "When looking at our final figure we can indeed observe that we have drawn a graph with circles on random locations in the specified domain with varying radius and color. The color is based on the position of the circle on the x-axis. \n"
   ]
  },
  {
   "cell_type": "code",
   "execution_count": null,
   "metadata": {},
   "outputs": [],
   "source": [
    "from bokeh.transform import linear_cmap\n",
    "\n",
    "# data\n",
    "N = 4000\n",
    "data = dict(x=np.random.random(size=N) * 100,\n",
    "            y=np.random.random(size=N) * 100,\n",
    "            r=np.random.random(size=N) * 1.5)\n",
    "\n",
    "# create figure\n",
    "p = figure()\n",
    "p.circle('x', 'y', radius='r', source=data, fill_alpha=0.6,\n",
    "        \n",
    "         # color map based on the x-coordinate\n",
    "         color=linear_cmap('x', 'Viridis256', 0, 100))\n",
    "\n",
    "show(p) "
   ]
  },
  {
   "cell_type": "markdown",
   "metadata": {},
   "source": [
    "Change the code above to use `log_cmap` and observe the results. Try changing `low` and `high` and specificying `low_color` and `high_color`."
   ]
  },
  {
   "cell_type": "markdown",
   "metadata": {},
   "source": [
    "<h3>\n",
    "<font color='blue'>\n",
    "Exercise\n",
    "</font>\n",
    "</h3>\n",
    "Use the corresponding factor_cmap to color a scatter plot of the iris data set"
   ]
  },
  {
   "cell_type": "code",
   "execution_count": null,
   "metadata": {},
   "outputs": [],
   "source": [
    "from bokeh.sampledata.iris import flowers\n"
   ]
  }
 ],
 "metadata": {
  "kernelspec": {
   "display_name": "Python 3",
   "language": "python",
   "name": "python3"
  },
  "language_info": {
   "codemirror_mode": {
    "name": "ipython",
    "version": 3
   },
   "file_extension": ".py",
   "mimetype": "text/x-python",
   "name": "python",
   "nbconvert_exporter": "python",
   "pygments_lexer": "ipython3",
   "version": "3.7.3"
  }
 },
 "nbformat": 4,
 "nbformat_minor": 4
}
